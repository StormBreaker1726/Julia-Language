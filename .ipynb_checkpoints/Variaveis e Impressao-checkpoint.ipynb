{
 "cells": [
  {
   "cell_type": "markdown",
   "id": "8ea1060d-66e7-4210-b4c7-fb823857c9dc",
   "metadata": {},
   "source": [
    "# Imprimindo"
   ]
  },
  {
   "cell_type": "markdown",
   "id": "bc0fb718-aeb6-4b9b-a549-b43e8d1d05c7",
   "metadata": {},
   "source": [
    "Usamos a função println() para imprimir com quebra de linha ao final"
   ]
  },
  {
   "cell_type": "code",
   "execution_count": 6,
   "id": "10723e0e-7759-46d6-93aa-855c9ca19abe",
   "metadata": {},
   "outputs": [
    {
     "name": "stdout",
     "output_type": "stream",
     "text": [
      "pt-br: Estou feliz em aprender Julia\n",
      "en-us: I'm excited to learn Julia\n"
     ]
    }
   ],
   "source": [
    "println(\"pt-br: Estou feliz em aprender Julia\")\n",
    "println(\"en-us: I'm excited to learn Julia\")"
   ]
  },
  {
   "cell_type": "markdown",
   "id": "01ea2006-00a5-45be-8557-eee7445f33d3",
   "metadata": {},
   "source": [
    "Usamos a função print() para imprimir sem quebra de linha ao final"
   ]
  },
  {
   "cell_type": "code",
   "execution_count": 7,
   "id": "14d9ef26-9fe8-4093-b54b-d6076ce99222",
   "metadata": {},
   "outputs": [
    {
     "name": "stdout",
     "output_type": "stream",
     "text": [
      "pt-br: Estou feliz em aprender Julia en-us: I'm excited to learn Julia"
     ]
    }
   ],
   "source": [
    "print(\"pt-br: Estou feliz em aprender Julia \")\n",
    "print(\"en-us: I'm excited to learn Julia\")"
   ]
  },
  {
   "cell_type": "markdown",
   "id": "b7c4502c-7cf0-4caa-9951-74a3593b491b",
   "metadata": {},
   "source": [
    "# Variáveis"
   ]
  },
  {
   "cell_type": "markdown",
   "id": "528b50dc-2ed5-4dc0-b9a4-fef3bfdba9d3",
   "metadata": {},
   "source": [
    "Tudo que precisamos é o nome da variável, o seu valor e o sinal de igual. A própria linguagem irá descobrir o tipo da variável"
   ]
  },
  {
   "cell_type": "code",
   "execution_count": 8,
   "id": "cdc7246b-2b29-4ce3-966e-ea73c0286748",
   "metadata": {},
   "outputs": [
    {
     "data": {
      "text/plain": [
       "Int64"
      ]
     },
     "execution_count": 8,
     "metadata": {},
     "output_type": "execute_result"
    }
   ],
   "source": [
    "minha_resposta = 42\n",
    "typeof(minha_resposta)"
   ]
  },
  {
   "cell_type": "code",
   "execution_count": 9,
   "id": "b92312af-d7ba-4397-8279-eb2b0c10cf41",
   "metadata": {},
   "outputs": [
    {
     "data": {
      "text/plain": [
       "Float64"
      ]
     },
     "execution_count": 9,
     "metadata": {},
     "output_type": "execute_result"
    }
   ],
   "source": [
    "pi = 3.15159\n",
    "typeof(pi)"
   ]
  },
  {
   "cell_type": "code",
   "execution_count": 14,
   "id": "be55fd27-95fb-473c-b8ef-63a0ed63f3da",
   "metadata": {},
   "outputs": [
    {
     "data": {
      "text/plain": [
       "String"
      ]
     },
     "execution_count": 14,
     "metadata": {},
     "output_type": "execute_result"
    }
   ],
   "source": [
    "😺 = \"gato feliz\"\n",
    "typeof(😺)"
   ]
  },
  {
   "cell_type": "markdown",
   "id": "f20a6856-d4ea-4023-b520-9b2dacb6292f",
   "metadata": {},
   "source": [
    "Após fazermos uma variável receber um valor, podemos faze-la receber outro valor de um tipo diferente sem nenhum problema"
   ]
  },
  {
   "cell_type": "code",
   "execution_count": 15,
   "id": "413bff49-c857-414c-a7f4-52c5628930e2",
   "metadata": {},
   "outputs": [
    {
     "data": {
      "text/plain": [
       "Int64"
      ]
     },
     "execution_count": 15,
     "metadata": {},
     "output_type": "execute_result"
    }
   ],
   "source": [
    "😺 = 1\n",
    "typeof(😺)"
   ]
  },
  {
   "cell_type": "code",
   "execution_count": 18,
   "id": "0f27a7f8-a9ad-4d76-8a6d-c91aed6ffbeb",
   "metadata": {},
   "outputs": [
    {
     "data": {
      "text/plain": [
       "Float64"
      ]
     },
     "execution_count": 18,
     "metadata": {},
     "output_type": "execute_result"
    }
   ],
   "source": [
    "😺 = 1.0\n",
    "typeof(😺)"
   ]
  },
  {
   "cell_type": "markdown",
   "id": "0e889d33-9990-48cf-a2e6-9f7d0ba52d67",
   "metadata": {},
   "source": [
    "_Julia_ nos permite escrever códigos super genéricos, e 😺 é um exemplo disso. \n",
    "\n",
    "Isso nos permite escrever código como o abaixo:"
   ]
  },
  {
   "cell_type": "code",
   "execution_count": 17,
   "id": "bacadaa1-004b-41c0-9ecd-03d0464e1b4c",
   "metadata": {},
   "outputs": [
    {
     "data": {
      "text/plain": [
       "1"
      ]
     },
     "execution_count": 17,
     "metadata": {},
     "output_type": "execute_result"
    }
   ],
   "source": [
    "😄 = 1"
   ]
  },
  {
   "cell_type": "code",
   "execution_count": null,
   "id": "336930da-11b9-4a2f-83b6-985e78aa0108",
   "metadata": {},
   "outputs": [],
   "source": []
  }
 ],
 "metadata": {
  "kernelspec": {
   "display_name": "Julia 1.8.0",
   "language": "julia",
   "name": "julia-1.8"
  },
  "language_info": {
   "file_extension": ".jl",
   "mimetype": "application/julia",
   "name": "julia",
   "version": "1.8.0"
  }
 },
 "nbformat": 4,
 "nbformat_minor": 5
}
