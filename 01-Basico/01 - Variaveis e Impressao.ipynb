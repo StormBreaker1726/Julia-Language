{
 "cells": [
  {
   "cell_type": "markdown",
   "id": "8ea1060d-66e7-4210-b4c7-fb823857c9dc",
   "metadata": {},
   "source": [
    "# Imprimindo"
   ]
  },
  {
   "cell_type": "markdown",
   "id": "bc0fb718-aeb6-4b9b-a549-b43e8d1d05c7",
   "metadata": {},
   "source": [
    "Usamos a função println() para imprimir com quebra de linha ao final"
   ]
  },
  {
   "cell_type": "code",
   "execution_count": 2,
   "id": "10723e0e-7759-46d6-93aa-855c9ca19abe",
   "metadata": {},
   "outputs": [
    {
     "name": "stdout",
     "output_type": "stream",
     "text": [
      "pt-br: Estou feliz em aprender Julia\n",
      "en-us: I'm excited to learn Julia\n"
     ]
    }
   ],
   "source": [
    "println(\"pt-br: Estou feliz em aprender Julia\")\n",
    "println(\"en-us: I'm excited to learn Julia\")"
   ]
  },
  {
   "cell_type": "markdown",
   "id": "01ea2006-00a5-45be-8557-eee7445f33d3",
   "metadata": {},
   "source": [
    "Usamos a função print() para imprimir sem quebra de linha ao final"
   ]
  },
  {
   "cell_type": "code",
   "execution_count": 3,
   "id": "14d9ef26-9fe8-4093-b54b-d6076ce99222",
   "metadata": {},
   "outputs": [
    {
     "name": "stdout",
     "output_type": "stream",
     "text": [
      "pt-br: Estou feliz em aprender Julia en-us: I'm excited to learn Julia"
     ]
    }
   ],
   "source": [
    "print(\"pt-br: Estou feliz em aprender Julia \")\n",
    "print(\"en-us: I'm excited to learn Julia\")"
   ]
  },
  {
   "cell_type": "markdown",
   "id": "b7c4502c-7cf0-4caa-9951-74a3593b491b",
   "metadata": {},
   "source": [
    "# Variáveis"
   ]
  },
  {
   "cell_type": "markdown",
   "id": "528b50dc-2ed5-4dc0-b9a4-fef3bfdba9d3",
   "metadata": {},
   "source": [
    "Tudo que precisamos é o nome da variável, o seu valor e o sinal de igual. A própria linguagem irá descobrir o tipo da variável"
   ]
  },
  {
   "cell_type": "code",
   "execution_count": 4,
   "id": "cdc7246b-2b29-4ce3-966e-ea73c0286748",
   "metadata": {},
   "outputs": [
    {
     "data": {
      "text/plain": [
       "Int64"
      ]
     },
     "execution_count": 4,
     "metadata": {},
     "output_type": "execute_result"
    }
   ],
   "source": [
    "minha_resposta = 42\n",
    "typeof(minha_resposta)"
   ]
  },
  {
   "cell_type": "code",
   "execution_count": 5,
   "id": "b92312af-d7ba-4397-8279-eb2b0c10cf41",
   "metadata": {},
   "outputs": [
    {
     "data": {
      "text/plain": [
       "Float64"
      ]
     },
     "execution_count": 5,
     "metadata": {},
     "output_type": "execute_result"
    }
   ],
   "source": [
    "pi = 3.15159\n",
    "typeof(pi)"
   ]
  },
  {
   "cell_type": "code",
   "execution_count": 6,
   "id": "be55fd27-95fb-473c-b8ef-63a0ed63f3da",
   "metadata": {},
   "outputs": [
    {
     "data": {
      "text/plain": [
       "String"
      ]
     },
     "execution_count": 6,
     "metadata": {},
     "output_type": "execute_result"
    }
   ],
   "source": [
    "😺 = \"gato feliz\"\n",
    "typeof(😺)"
   ]
  },
  {
   "cell_type": "markdown",
   "id": "f20a6856-d4ea-4023-b520-9b2dacb6292f",
   "metadata": {},
   "source": [
    "Após fazermos uma variável receber um valor, podemos faze-la receber outro valor de um tipo diferente sem nenhum problema"
   ]
  },
  {
   "cell_type": "code",
   "execution_count": 7,
   "id": "413bff49-c857-414c-a7f4-52c5628930e2",
   "metadata": {},
   "outputs": [
    {
     "data": {
      "text/plain": [
       "Int64"
      ]
     },
     "execution_count": 7,
     "metadata": {},
     "output_type": "execute_result"
    }
   ],
   "source": [
    "😺 = 1\n",
    "typeof(😺)"
   ]
  },
  {
   "cell_type": "code",
   "execution_count": 8,
   "id": "0f27a7f8-a9ad-4d76-8a6d-c91aed6ffbeb",
   "metadata": {},
   "outputs": [
    {
     "data": {
      "text/plain": [
       "Float64"
      ]
     },
     "execution_count": 8,
     "metadata": {},
     "output_type": "execute_result"
    }
   ],
   "source": [
    "😺 = 1.0\n",
    "typeof(😺)"
   ]
  },
  {
   "cell_type": "markdown",
   "id": "0e889d33-9990-48cf-a2e6-9f7d0ba52d67",
   "metadata": {},
   "source": [
    "_Julia_ nos permite escrever códigos super genéricos, e 😺 é um exemplo disso. \n",
    "\n",
    "Isso nos permite escrever código como o abaixo:"
   ]
  },
  {
   "cell_type": "code",
   "execution_count": 11,
   "id": "bacadaa1-004b-41c0-9ecd-03d0464e1b4c",
   "metadata": {},
   "outputs": [
    {
     "data": {
      "text/plain": [
       "-1"
      ]
     },
     "execution_count": 11,
     "metadata": {},
     "output_type": "execute_result"
    }
   ],
   "source": [
    "😄 = 0\n",
    "😵 = -1"
   ]
  },
  {
   "cell_type": "code",
   "execution_count": 12,
   "id": "336930da-11b9-4a2f-83b6-985e78aa0108",
   "metadata": {},
   "outputs": [
    {
     "data": {
      "text/plain": [
       "true"
      ]
     },
     "execution_count": 12,
     "metadata": {},
     "output_type": "execute_result"
    }
   ],
   "source": [
    "😺 + 😵 == 😄"
   ]
  },
  {
   "cell_type": "markdown",
   "id": "15c64248",
   "metadata": {},
   "source": [
    "# Comentários"
   ]
  },
  {
   "cell_type": "code",
   "execution_count": 13,
   "id": "aa4c6700",
   "metadata": {},
   "outputs": [],
   "source": [
    "# Em Julia, comentamos assim quando queremos comentar apenas uma linha"
   ]
  },
  {
   "cell_type": "code",
   "execution_count": 14,
   "id": "358325b8",
   "metadata": {},
   "outputs": [],
   "source": [
    "#=\n",
    "Quando queremos comentar um bloco, comentamos com #==#\n",
    "=#"
   ]
  },
  {
   "cell_type": "markdown",
   "id": "6d21eafa",
   "metadata": {},
   "source": [
    "# Sintaxe matemática básica"
   ]
  },
  {
   "cell_type": "code",
   "execution_count": 15,
   "id": "4f015b6c",
   "metadata": {},
   "outputs": [
    {
     "data": {
      "text/plain": [
       "10"
      ]
     },
     "execution_count": 15,
     "metadata": {},
     "output_type": "execute_result"
    }
   ],
   "source": [
    "soma = 3+7"
   ]
  },
  {
   "cell_type": "code",
   "execution_count": 16,
   "id": "3e741639",
   "metadata": {},
   "outputs": [
    {
     "data": {
      "text/plain": [
       "7"
      ]
     },
     "execution_count": 16,
     "metadata": {},
     "output_type": "execute_result"
    }
   ],
   "source": [
    "diferenca = 10 - 3"
   ]
  },
  {
   "cell_type": "code",
   "execution_count": 17,
   "id": "b28b7122",
   "metadata": {},
   "outputs": [
    {
     "data": {
      "text/plain": [
       "100"
      ]
     },
     "execution_count": 17,
     "metadata": {},
     "output_type": "execute_result"
    }
   ],
   "source": [
    "produto = 20 * 5"
   ]
  },
  {
   "cell_type": "code",
   "execution_count": 18,
   "id": "e890ca49",
   "metadata": {},
   "outputs": [
    {
     "data": {
      "text/plain": [
       "10.0"
      ]
     },
     "execution_count": 18,
     "metadata": {},
     "output_type": "execute_result"
    }
   ],
   "source": [
    "quociente = 100/10"
   ]
  },
  {
   "cell_type": "code",
   "execution_count": 19,
   "id": "747e740f",
   "metadata": {},
   "outputs": [
    {
     "data": {
      "text/plain": [
       "100"
      ]
     },
     "execution_count": 19,
     "metadata": {},
     "output_type": "execute_result"
    }
   ],
   "source": [
    "potencia = 10 ^ 2"
   ]
  },
  {
   "cell_type": "code",
   "execution_count": 20,
   "id": "8d07ce7a",
   "metadata": {},
   "outputs": [
    {
     "data": {
      "text/plain": [
       "1"
      ]
     },
     "execution_count": 20,
     "metadata": {},
     "output_type": "execute_result"
    }
   ],
   "source": [
    "modulo = 101%2"
   ]
  },
  {
   "cell_type": "markdown",
   "id": "ee3a82a8",
   "metadata": {},
   "source": [
    "# Exercícios\n",
    "\n",
    "## 1.1\n",
    "Atribua a uma variável chamada 'dias' o valor de 365. Converta 'dias' em float e atribua o valor convertido a variável 'dias_float'"
   ]
  },
  {
   "cell_type": "code",
   "execution_count": 32,
   "id": "dd877cba",
   "metadata": {},
   "outputs": [
    {
     "data": {
      "text/plain": [
       "365.0"
      ]
     },
     "execution_count": 32,
     "metadata": {},
     "output_type": "execute_result"
    }
   ],
   "source": [
    "dias = 365\n",
    "dias_float = convert(Float64, dias) # convert() irá converter um tipo numérico em outro"
   ]
  },
  {
   "cell_type": "code",
   "execution_count": 33,
   "id": "cd93d91a",
   "metadata": {},
   "outputs": [
    {
     "name": "stdout",
     "output_type": "stream",
     "text": [
      "nothing\n",
      "nothing\n"
     ]
    }
   ],
   "source": [
    "println(@assert dias == 365 [\"Esta errado. Faca novamente\"])\n",
    "println(@assert dias_float == 365.0 [\"Esta errado. Faca novamente\"])"
   ]
  },
  {
   "cell_type": "code",
   "execution_count": 43,
   "id": "410a290e",
   "metadata": {},
   "outputs": [
    {
     "data": {
      "text/plain": [
       "365"
      ]
     },
     "execution_count": 43,
     "metadata": {},
     "output_type": "execute_result"
    }
   ],
   "source": [
    "dias = \"365\"\n",
    "dias_float = parse(Int64, dias) # parse() irá converter uma string para um tipo numérico"
   ]
  }
 ],
 "metadata": {
  "kernelspec": {
   "display_name": "Julia 1.8.0",
   "language": "julia",
   "name": "julia-1.8"
  },
  "language_info": {
   "file_extension": ".jl",
   "mimetype": "application/julia",
   "name": "julia",
   "version": "1.8.0"
  }
 },
 "nbformat": 4,
 "nbformat_minor": 5
}
